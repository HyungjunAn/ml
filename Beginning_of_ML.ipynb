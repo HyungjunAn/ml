{
  "nbformat": 4,
  "nbformat_minor": 0,
  "metadata": {
    "colab": {
      "name": "Beginning of ML.ipynb",
      "provenance": [],
      "collapsed_sections": [],
      "toc_visible": true,
      "mount_file_id": "1kUn9IzYnfautarNYYM2sY5rV1Y7k12bN",
      "authorship_tag": "ABX9TyM093nJHCpcfmlRFbtbSvIc",
      "include_colab_link": true
    },
    "kernelspec": {
      "name": "python3",
      "display_name": "Python 3"
    }
  },
  "cells": [
    {
      "cell_type": "markdown",
      "metadata": {
        "id": "view-in-github",
        "colab_type": "text"
      },
      "source": [
        "<a href=\"https://colab.research.google.com/github/HyungjunAn/ml/blob/main/Beginning_of_ML.ipynb\" target=\"_parent\"><img src=\"https://colab.research.google.com/assets/colab-badge.svg\" alt=\"Open In Colab\"/></a>"
      ]
    },
    {
      "cell_type": "markdown",
      "metadata": {
        "id": "RhJH1PGhcrU_"
      },
      "source": [
        "# Beginning of TesorFlow"
      ]
    },
    {
      "cell_type": "code",
      "metadata": {
        "colab": {
          "base_uri": "https://localhost:8080/"
        },
        "id": "FXEyeke-X0XO",
        "outputId": "0f0fc720-33ac-4d57-8e2e-80f545c31ae7"
      },
      "source": [
        "import tensorflow as tf\n",
        "\n",
        "print(tf.__version__)\n",
        "\n",
        "node1 = tf.constant(3.0)\n",
        "node2 = tf.constant(4.0)\n",
        "\n",
        "node3 = node1 + node2\n",
        "\n",
        "print(node1)\n",
        "\n",
        "tf.print(node1)\n",
        "tf.print(node3)\n",
        "\n",
        "def myAdd(a, b):\n",
        "  return a + b\n",
        "\n",
        "#ph_node3 = ph_node1 + ph_node2\n",
        "\n",
        "myAdd(tf.constant([1.0, 2.0]), tf.constant([2.5, 3.0]))\n",
        "tf.print(myAdd(tf.constant([1, 2]), tf.constant([2, 3])))"
      ],
      "execution_count": null,
      "outputs": [
        {
          "output_type": "stream",
          "text": [
            "2.5.0\n",
            "tf.Tensor(3.0, shape=(), dtype=float32)\n",
            "3\n",
            "7\n",
            "[3 5]\n"
          ],
          "name": "stdout"
        }
      ]
    },
    {
      "cell_type": "markdown",
      "metadata": {
        "id": "yLZO5dkwc6Eb"
      },
      "source": [
        "# Linear Regression"
      ]
    },
    {
      "cell_type": "markdown",
      "metadata": {
        "id": "vza5P_UMzWiu"
      },
      "source": [
        "## Single_Variable"
      ]
    },
    {
      "cell_type": "markdown",
      "metadata": {
        "id": "D9V4leKkzgNy"
      },
      "source": [
        "Tensroflow"
      ]
    },
    {
      "cell_type": "code",
      "metadata": {
        "id": "gSm_w8b7ziT3",
        "colab": {
          "base_uri": "https://localhost:8080/"
        },
        "outputId": "6d80c1f6-61fd-45fd-869a-bfdfe83e34ac"
      },
      "source": [
        "import tensorflow as tf\n",
        "\n",
        "X = [1, 2, 3, 4]\n",
        "y = [0, -1, -2, -3]\n",
        "\n",
        "w = tf.Variable(tf.random.normal([1]))\n",
        "b = tf.Variable(tf.random.normal([1]))\n",
        "\n",
        "def predict(X):\n",
        "  return X * w + b\n",
        "\n",
        "learning_rate = 1e-3\n",
        "\n",
        "for i in range(2000):\n",
        "  with tf.GradientTape() as g:\n",
        "    cost = tf.reduce_mean(tf.square(predict(X) - y))\n",
        "  \n",
        "  wg, bg = g.gradient(cost, [w, b])\n",
        "\n",
        "  w.assign_sub(learning_rate * wg)\n",
        "  b.assign_sub(learning_rate * bg)\n",
        "\n",
        "  if (i % 200) == 0:\n",
        "    tf.print(i, cost, w, b)"
      ],
      "execution_count": null,
      "outputs": [
        {
          "output_type": "stream",
          "text": [
            "0 5.50829315 [-0.264256746] [1.31684625]\n",
            "200 0.007063773 [-0.993080735] [1.06508601]\n",
            "400 0.000476453832 [-1.01711571] [1.0532645]\n",
            "600 0.000415801274 [-1.01693463] [1.04989135]\n",
            "800 0.000368876092 [-1.01598036] [1.04698229]\n",
            "1000 0.00032725028 [-1.01505196] [1.04425204]\n",
            "1200 0.000290318916 [-1.01417673] [1.04168034]\n",
            "1400 0.000257556443 [-1.01335251] [1.03925824]\n",
            "1600 0.000228498742 [-1.01257706] [1.03697741]\n",
            "1800 0.000202715164 [-1.01184702] [1.03482854]\n"
          ],
          "name": "stdout"
        }
      ]
    },
    {
      "cell_type": "markdown",
      "metadata": {
        "id": "tc3M4nDxM32o"
      },
      "source": [
        "### Keras"
      ]
    },
    {
      "cell_type": "code",
      "metadata": {
        "colab": {
          "base_uri": "https://localhost:8080/"
        },
        "id": "CZAC3X__Lixv",
        "outputId": "4a3cea72-c786-4658-a763-467282bc7e11"
      },
      "source": [
        "import numpy as np\n",
        "import tensorflow as tf\n",
        "\n",
        "x_train = [1, 2, 3, 4]\n",
        "y_train = [0, -1, -2, -3]\n",
        "\n",
        "tf.model = tf.keras.Sequential()\n",
        "# units == output shape, input_dim == input shape\n",
        "tf.model.add(tf.keras.layers.Dense(units=1, input_dim=1, name = 'layer_1'))\n",
        "\n",
        "sgd = tf.keras.optimizers.SGD(lr=0.1)  # SGD == standard gradient descendent, lr == learning rate\n",
        "tf.model.compile(loss='mse', optimizer=sgd)  # mse == mean_squared_error, 1/m * sig (y'-y)^2\n",
        "\n",
        "# prints summary of the model to the terminal\n",
        "tf.model.summary()\n",
        "\n",
        "# fit() executes training\n",
        "history = tf.model.fit(x_train, y_train, epochs=200, verbose = 0)\n",
        "\n",
        "print(history.history['loss'])\n",
        "\n",
        "# predict() returns predicted value\n",
        "y_predict = tf.model.predict(np.array([5, 4]))\n",
        "print(y_predict)"
      ],
      "execution_count": null,
      "outputs": [
        {
          "output_type": "stream",
          "text": [
            "Model: \"sequential_17\"\n",
            "_________________________________________________________________\n",
            "Layer (type)                 Output Shape              Param #   \n",
            "=================================================================\n",
            "layer_1 (Dense)              (None, 1)                 2         \n",
            "=================================================================\n",
            "Total params: 2\n",
            "Trainable params: 2\n",
            "Non-trainable params: 0\n",
            "_________________________________________________________________\n",
            "[11.362650871276855, 5.255949974060059, 2.50504994392395, 1.261380672454834, 0.69493567943573, 0.4330272078514099, 0.3082974851131439, 0.24557945132255554, 0.2110998034477234, 0.18967141211032867, 0.17445358633995056, 0.16235429048538208, 0.15196582674980164, 0.14263783395290375, 0.1340610384941101, 0.12608033418655396, 0.11861089617013931, 0.11160019040107727, 0.10501114279031754, 0.098814457654953, 0.09298485517501831, 0.08749984204769135, 0.08233868330717087, 0.07748208940029144, 0.07291201502084732, 0.0686115026473999, 0.06456466764211655, 0.06075651943683624, 0.05717301741242409, 0.05380084365606308, 0.05062756687402725, 0.047641485929489136, 0.04483149200677872, 0.04218725115060806, 0.03969897702336311, 0.03735747188329697, 0.0351540669798851, 0.033080607652664185, 0.031129460781812668, 0.02929338812828064, 0.027565613389015198, 0.025939757004380226, 0.024409785866737366, 0.022970065474510193, 0.021615244448184967, 0.020340342074632645, 0.01914062723517418, 0.01801168918609619, 0.016949322074651718, 0.01594962738454342, 0.015008893795311451, 0.0141236437484622, 0.013290601782500744, 0.012506705708801746, 0.011769035831093788, 0.011074887588620186, 0.01042166631668806, 0.009806977584958076, 0.009228547103703022, 0.008684231899678707, 0.00817202590405941, 0.007690019905567169, 0.007236444856971502, 0.006809628568589687, 0.0064079901203513145, 0.006030036136507988, 0.005674367304891348, 0.005339683964848518, 0.0050247423350811005, 0.004728374537080526, 0.004449483007192612, 0.004187044687569141, 0.003940084483474493, 0.0037076943553984165, 0.0034890086390078068, 0.0032832203432917595, 0.003089567646384239, 0.0029073418118059635, 0.0027358608786016703, 0.0025744917802512646, 0.0024226459208875895, 0.0022797507699579, 0.002145291306078434, 0.00201875320635736, 0.001899688970297575, 0.001787638757377863, 0.0016822037287056446, 0.0015829803887754679, 0.0014896153006702662, 0.0014017547946423292, 0.0013190781464800239, 0.001241274643689394, 0.001168062910437584, 0.0010991706512868404, 0.0010343394242227077, 0.0009733308688737452, 0.0009159212931990623, 0.0008618989959359169, 0.0008110657799988985, 0.000763226009439677, 0.0007182086119428277, 0.0006758491508662701, 0.0006359863909892738, 0.0005984751624055207, 0.0005631757667288184, 0.0005299588083289564, 0.0004987016436643898, 0.0004692861984949559, 0.00044160711695440114, 0.00041555927600711584, 0.00039105009636841714, 0.000367984757758677, 0.000346282497048378, 0.00032585603184998035, 0.00030663679353892803, 0.00028855257551185787, 0.0002715313748922199, 0.00025551687576808035, 0.0002404465776635334, 0.0002262629714095965, 0.0002129176282323897, 0.00020035976194776595, 0.00018854165682569146, 0.00017742259660735726, 0.00016695668455213308, 0.00015710976731497794, 0.00014784331142436713, 0.00013912258145865053, 0.0001309169310843572, 0.00012319533561822027, 0.00011593019007705152, 0.00010909172851825133, 0.00010265723540214822, 9.660211799200624e-05, 9.090367530006915e-05, 8.554225496482104e-05, 8.049680036492646e-05, 7.574938354082406e-05, 7.128097058739513e-05, 6.7077053245157e-05, 6.312040204647928e-05, 5.9397094446467236e-05, 5.5893546232255176e-05, 5.259730824036524e-05, 4.949511640006676e-05, 4.657625686377287e-05, 4.3828833440784365e-05, 4.124365659663454e-05, 3.881125303450972e-05, 3.652204031823203e-05, 3.436790939304046e-05, 3.2340598409064114e-05, 3.04327804769855e-05, 2.863844929379411e-05, 2.6949350285576656e-05, 2.535955536586698e-05, 2.3863838578108698e-05, 2.245619907625951e-05, 2.1131692847120576e-05, 1.9885628717020154e-05, 1.8712646124185994e-05, 1.7608716007089242e-05, 1.6570467778365128e-05, 1.5593153875670396e-05, 1.4673303667223081e-05, 1.3808074072585441e-05, 1.2993325071875006e-05, 1.222686842083931e-05, 1.1505993825267069e-05, 1.0827211553987581e-05, 1.0188622582063545e-05, 9.587874046701472e-06, 9.022058293339796e-06, 8.48987929202849e-06, 7.989448931766674e-06, 7.518077836721204e-06, 7.074516361171845e-06, 6.657448466285132e-06, 6.264883268158883e-06, 5.895345566386823e-06, 5.547620730794733e-06, 5.2204295570845716e-06, 4.912516033073189e-06, 4.622582309821155e-06, 4.349916252976982e-06, 4.093468760402175e-06, 3.852126610581763e-06, 3.624841156124603e-06, 3.4110446449631127e-06, 3.209841906937072e-06, 3.020563326572301e-06, 2.842378307832405e-06, 2.674760935406084e-06, 2.5169872515107272e-06, 2.368573859712342e-06, 2.2287863430392463e-06, 2.097453489113832e-06, 1.9736066860787105e-06, 1.8572295630292501e-06, 1.7476697848906042e-06]\n",
            "WARNING:tensorflow:11 out of the last 11 calls to <function Model.make_predict_function.<locals>.predict_function at 0x7f4f42b1f050> triggered tf.function retracing. Tracing is expensive and the excessive number of tracings could be due to (1) creating @tf.function repeatedly in a loop, (2) passing tensors with different shapes, (3) passing Python objects instead of tensors. For (1), please define your @tf.function outside of the loop. For (2), @tf.function has experimental_relax_shapes=True option that relaxes argument shapes that can avoid unnecessary retracing. For (3), please refer to https://www.tensorflow.org/guide/function#controlling_retracing and https://www.tensorflow.org/api_docs/python/tf/function for  more details.\n",
            "[[-3.9978013]\n",
            " [-2.9988687]]\n"
          ],
          "name": "stdout"
        }
      ]
    },
    {
      "cell_type": "markdown",
      "metadata": {
        "id": "OM1hN8kadHR1"
      },
      "source": [
        "## Multi-Variable"
      ]
    },
    {
      "cell_type": "markdown",
      "metadata": {
        "id": "oqjTxlbSz6CK"
      },
      "source": [
        "### Tensorflow"
      ]
    },
    {
      "cell_type": "code",
      "metadata": {
        "id": "0vKZsoBo0Hwd",
        "colab": {
          "base_uri": "https://localhost:8080/"
        },
        "outputId": "eca45412-6cd0-46fb-a150-bf3ef70cc981"
      },
      "source": [
        "# Lab 4 Multi-variable linear regression\n",
        "import tensorflow as tf\n",
        "import numpy as np\n",
        "#tf.random.set_seed(777)  # for reproducibility\n",
        "\n",
        "data = np.array([\n",
        "    # X1,   X2,    X3,   y\n",
        "    [ 73.,  80.,  75., 152. ],\n",
        "    [ 93.,  88.,  93., 185. ],\n",
        "    [ 89.,  91.,  90., 180. ],\n",
        "    [ 96.,  98., 100., 196. ],\n",
        "    [ 73.,  66.,  70., 142. ]\n",
        "], dtype=np.float32)\n",
        "\n",
        "# slice data\n",
        "X = data[:, :-1]\n",
        "y = data[:, [-1]]\n",
        "\n",
        "W = tf.Variable(tf.random.normal([3, 1]), name='weight')\n",
        "b = tf.Variable(tf.random.normal([1]), name='bias')\n",
        "\n",
        "# Hypothesis\n",
        "def predict(X):\n",
        "  return tf.matmul(X, W) + b\n",
        "\n",
        "learning_rate=1e-5\n",
        "\n",
        "for step in range(3001):\n",
        "  with tf.GradientTape() as g:\n",
        "    cost = tf.reduce_mean(tf.square(predict(X) - y))\n",
        "    \n",
        "  wg, bg = g.gradient(cost, [W, b])    \n",
        "  W.assign_sub(learning_rate * wg)\n",
        "  b.assign_sub(learning_rate * bg)\n",
        "    \n",
        "  if step % 100 == 0:\n",
        "    print(step, \"Cost: \", cost)"
      ],
      "execution_count": null,
      "outputs": [
        {
          "output_type": "stream",
          "text": [
            "0 Cost:  tf.Tensor(1116.9026, shape=(), dtype=float32)\n",
            "100 Cost:  tf.Tensor(2.781115, shape=(), dtype=float32)\n",
            "200 Cost:  tf.Tensor(2.6955144, shape=(), dtype=float32)\n",
            "300 Cost:  tf.Tensor(2.614162, shape=(), dtype=float32)\n",
            "400 Cost:  tf.Tensor(2.5368524, shape=(), dtype=float32)\n",
            "500 Cost:  tf.Tensor(2.4633636, shape=(), dtype=float32)\n",
            "600 Cost:  tf.Tensor(2.3934972, shape=(), dtype=float32)\n",
            "700 Cost:  tf.Tensor(2.3270535, shape=(), dtype=float32)\n",
            "800 Cost:  tf.Tensor(2.263882, shape=(), dtype=float32)\n",
            "900 Cost:  tf.Tensor(2.2037797, shape=(), dtype=float32)\n",
            "1000 Cost:  tf.Tensor(2.1465917, shape=(), dtype=float32)\n",
            "1100 Cost:  tf.Tensor(2.0921786, shape=(), dtype=float32)\n",
            "1200 Cost:  tf.Tensor(2.0403917, shape=(), dtype=float32)\n",
            "1300 Cost:  tf.Tensor(1.9910946, shape=(), dtype=float32)\n",
            "1400 Cost:  tf.Tensor(1.9441456, shape=(), dtype=float32)\n",
            "1500 Cost:  tf.Tensor(1.8994318, shape=(), dtype=float32)\n",
            "1600 Cost:  tf.Tensor(1.8568255, shape=(), dtype=float32)\n",
            "1700 Cost:  tf.Tensor(1.8162467, shape=(), dtype=float32)\n",
            "1800 Cost:  tf.Tensor(1.7775482, shape=(), dtype=float32)\n",
            "1900 Cost:  tf.Tensor(1.7406639, shape=(), dtype=float32)\n",
            "2000 Cost:  tf.Tensor(1.7054878, shape=(), dtype=float32)\n",
            "2100 Cost:  tf.Tensor(1.6719182, shape=(), dtype=float32)\n",
            "2200 Cost:  tf.Tensor(1.6399046, shape=(), dtype=float32)\n",
            "2300 Cost:  tf.Tensor(1.6093159, shape=(), dtype=float32)\n",
            "2400 Cost:  tf.Tensor(1.5801289, shape=(), dtype=float32)\n",
            "2500 Cost:  tf.Tensor(1.5522473, shape=(), dtype=float32)\n",
            "2600 Cost:  tf.Tensor(1.5256093, shape=(), dtype=float32)\n",
            "2700 Cost:  tf.Tensor(1.5001385, shape=(), dtype=float32)\n",
            "2800 Cost:  tf.Tensor(1.4757864, shape=(), dtype=float32)\n",
            "2900 Cost:  tf.Tensor(1.4524852, shape=(), dtype=float32)\n",
            "3000 Cost:  tf.Tensor(1.4301903, shape=(), dtype=float32)\n"
          ],
          "name": "stdout"
        }
      ]
    },
    {
      "cell_type": "markdown",
      "metadata": {
        "id": "AkNzXScez5tN"
      },
      "source": [
        "### Keras"
      ]
    },
    {
      "cell_type": "code",
      "metadata": {
        "colab": {
          "base_uri": "https://localhost:8080/"
        },
        "id": "Jl7gE3pSWSsm",
        "outputId": "3cf978e3-b8df-4f45-af39-25911bdcc748"
      },
      "source": [
        "# Lab 4 Multi-variable linear regression\n",
        "import tensorflow as tf\n",
        "import numpy as np\n",
        "\n",
        "x_data = [[73., 80., 75.],\n",
        "          [93., 88., 93.],\n",
        "          [89., 91., 90.],\n",
        "          [96., 98., 100.],\n",
        "          [73., 66., 70.]]\n",
        "y_data = [[152.],\n",
        "          [185.],\n",
        "          [180.],\n",
        "          [196.],\n",
        "          [142.]]\n",
        "\n",
        "tf.model = tf.keras.Sequential()\n",
        "\n",
        "tf.model.add(tf.keras.layers.Dense(units=1, input_dim=3))  # input_dim=3 gives multi-variable regression\n",
        "tf.model.add(tf.keras.layers.Activation('linear'))  # this line can be omitted, as linear activation is default\n",
        "# advanced reading https://towardsdatascience.com/activation-functions-neural-networks-1cbd9f8d91d6\n",
        "\n",
        "tf.model.compile(loss='mse', optimizer=tf.keras.optimizers.SGD(lr=1e-5))\n",
        "tf.model.summary()\n",
        "history = tf.model.fit(x_data, y_data, epochs=100)\n",
        "\n",
        "y_predict = tf.model.predict(np.array([[72., 93., 90.]]))\n",
        "print(y_predict)"
      ],
      "execution_count": null,
      "outputs": [
        {
          "output_type": "stream",
          "text": [
            "Model: \"sequential_6\"\n",
            "_________________________________________________________________\n",
            "Layer (type)                 Output Shape              Param #   \n",
            "=================================================================\n",
            "dense_4 (Dense)              (None, 1)                 4         \n",
            "_________________________________________________________________\n",
            "activation (Activation)      (None, 1)                 0         \n",
            "=================================================================\n",
            "Total params: 4\n",
            "Trainable params: 4\n",
            "Non-trainable params: 0\n",
            "_________________________________________________________________\n",
            "Epoch 1/100\n",
            "1/1 [==============================] - 0s 223ms/step - loss: 23593.3320\n",
            "Epoch 2/100\n",
            "1/1 [==============================] - 0s 3ms/step - loss: 7397.0234\n",
            "Epoch 3/100\n",
            "1/1 [==============================] - 0s 4ms/step - loss: 2320.3406\n",
            "Epoch 4/100\n",
            "1/1 [==============================] - 0s 6ms/step - loss: 729.0699\n",
            "Epoch 5/100\n",
            "1/1 [==============================] - 0s 5ms/step - loss: 230.2907\n",
            "Epoch 6/100\n",
            "1/1 [==============================] - 0s 6ms/step - loss: 73.9496\n",
            "Epoch 7/100\n",
            "1/1 [==============================] - 0s 3ms/step - loss: 24.9447\n",
            "Epoch 8/100\n",
            "1/1 [==============================] - 0s 6ms/step - loss: 9.5839\n",
            "Epoch 9/100\n",
            "1/1 [==============================] - 0s 3ms/step - loss: 4.7687\n",
            "Epoch 10/100\n",
            "1/1 [==============================] - 0s 3ms/step - loss: 3.2591\n",
            "Epoch 11/100\n",
            "1/1 [==============================] - 0s 4ms/step - loss: 2.7856\n",
            "Epoch 12/100\n",
            "1/1 [==============================] - 0s 3ms/step - loss: 2.6368\n",
            "Epoch 13/100\n",
            "1/1 [==============================] - 0s 6ms/step - loss: 2.5898\n",
            "Epoch 14/100\n",
            "1/1 [==============================] - 0s 3ms/step - loss: 2.5748\n",
            "Epoch 15/100\n",
            "1/1 [==============================] - 0s 3ms/step - loss: 2.5697\n",
            "Epoch 16/100\n",
            "1/1 [==============================] - 0s 3ms/step - loss: 2.5678\n",
            "Epoch 17/100\n",
            "1/1 [==============================] - 0s 3ms/step - loss: 2.5669\n",
            "Epoch 18/100\n",
            "1/1 [==============================] - 0s 3ms/step - loss: 2.5662\n",
            "Epoch 19/100\n",
            "1/1 [==============================] - 0s 4ms/step - loss: 2.5657\n",
            "Epoch 20/100\n",
            "1/1 [==============================] - 0s 4ms/step - loss: 2.5652\n",
            "Epoch 21/100\n",
            "1/1 [==============================] - 0s 4ms/step - loss: 2.5647\n",
            "Epoch 22/100\n",
            "1/1 [==============================] - 0s 3ms/step - loss: 2.5642\n",
            "Epoch 23/100\n",
            "1/1 [==============================] - 0s 3ms/step - loss: 2.5637\n",
            "Epoch 24/100\n",
            "1/1 [==============================] - 0s 3ms/step - loss: 2.5632\n",
            "Epoch 25/100\n",
            "1/1 [==============================] - 0s 3ms/step - loss: 2.5628\n",
            "Epoch 26/100\n",
            "1/1 [==============================] - 0s 3ms/step - loss: 2.5623\n",
            "Epoch 27/100\n",
            "1/1 [==============================] - 0s 3ms/step - loss: 2.5618\n",
            "Epoch 28/100\n",
            "1/1 [==============================] - 0s 3ms/step - loss: 2.5613\n",
            "Epoch 29/100\n",
            "1/1 [==============================] - 0s 3ms/step - loss: 2.5608\n",
            "Epoch 30/100\n",
            "1/1 [==============================] - 0s 3ms/step - loss: 2.5603\n",
            "Epoch 31/100\n",
            "1/1 [==============================] - 0s 3ms/step - loss: 2.5598\n",
            "Epoch 32/100\n",
            "1/1 [==============================] - 0s 4ms/step - loss: 2.5593\n",
            "Epoch 33/100\n",
            "1/1 [==============================] - 0s 4ms/step - loss: 2.5589\n",
            "Epoch 34/100\n",
            "1/1 [==============================] - 0s 3ms/step - loss: 2.5584\n",
            "Epoch 35/100\n",
            "1/1 [==============================] - 0s 6ms/step - loss: 2.5579\n",
            "Epoch 36/100\n",
            "1/1 [==============================] - 0s 5ms/step - loss: 2.5574\n",
            "Epoch 37/100\n",
            "1/1 [==============================] - 0s 4ms/step - loss: 2.5569\n",
            "Epoch 38/100\n",
            "1/1 [==============================] - 0s 3ms/step - loss: 2.5565\n",
            "Epoch 39/100\n",
            "1/1 [==============================] - 0s 4ms/step - loss: 2.5560\n",
            "Epoch 40/100\n",
            "1/1 [==============================] - 0s 10ms/step - loss: 2.5555\n",
            "Epoch 41/100\n",
            "1/1 [==============================] - 0s 3ms/step - loss: 2.5550\n",
            "Epoch 42/100\n",
            "1/1 [==============================] - 0s 3ms/step - loss: 2.5545\n",
            "Epoch 43/100\n",
            "1/1 [==============================] - 0s 4ms/step - loss: 2.5540\n",
            "Epoch 44/100\n",
            "1/1 [==============================] - 0s 4ms/step - loss: 2.5536\n",
            "Epoch 45/100\n",
            "1/1 [==============================] - 0s 4ms/step - loss: 2.5531\n",
            "Epoch 46/100\n",
            "1/1 [==============================] - 0s 4ms/step - loss: 2.5526\n",
            "Epoch 47/100\n",
            "1/1 [==============================] - 0s 6ms/step - loss: 2.5521\n",
            "Epoch 48/100\n",
            "1/1 [==============================] - 0s 5ms/step - loss: 2.5516\n",
            "Epoch 49/100\n",
            "1/1 [==============================] - 0s 4ms/step - loss: 2.5512\n",
            "Epoch 50/100\n",
            "1/1 [==============================] - 0s 6ms/step - loss: 2.5507\n",
            "Epoch 51/100\n",
            "1/1 [==============================] - 0s 4ms/step - loss: 2.5502\n",
            "Epoch 52/100\n",
            "1/1 [==============================] - 0s 4ms/step - loss: 2.5497\n",
            "Epoch 53/100\n",
            "1/1 [==============================] - 0s 5ms/step - loss: 2.5492\n",
            "Epoch 54/100\n",
            "1/1 [==============================] - 0s 3ms/step - loss: 2.5487\n",
            "Epoch 55/100\n",
            "1/1 [==============================] - 0s 4ms/step - loss: 2.5483\n",
            "Epoch 56/100\n",
            "1/1 [==============================] - 0s 3ms/step - loss: 2.5478\n",
            "Epoch 57/100\n",
            "1/1 [==============================] - 0s 5ms/step - loss: 2.5473\n",
            "Epoch 58/100\n",
            "1/1 [==============================] - 0s 3ms/step - loss: 2.5468\n",
            "Epoch 59/100\n",
            "1/1 [==============================] - 0s 3ms/step - loss: 2.5464\n",
            "Epoch 60/100\n",
            "1/1 [==============================] - 0s 5ms/step - loss: 2.5459\n",
            "Epoch 61/100\n",
            "1/1 [==============================] - 0s 4ms/step - loss: 2.5454\n",
            "Epoch 62/100\n",
            "1/1 [==============================] - 0s 4ms/step - loss: 2.5449\n",
            "Epoch 63/100\n",
            "1/1 [==============================] - 0s 4ms/step - loss: 2.5444\n",
            "Epoch 64/100\n",
            "1/1 [==============================] - 0s 4ms/step - loss: 2.5440\n",
            "Epoch 65/100\n",
            "1/1 [==============================] - 0s 4ms/step - loss: 2.5435\n",
            "Epoch 66/100\n",
            "1/1 [==============================] - 0s 4ms/step - loss: 2.5430\n",
            "Epoch 67/100\n",
            "1/1 [==============================] - 0s 4ms/step - loss: 2.5425\n",
            "Epoch 68/100\n",
            "1/1 [==============================] - 0s 5ms/step - loss: 2.5421\n",
            "Epoch 69/100\n",
            "1/1 [==============================] - 0s 4ms/step - loss: 2.5416\n",
            "Epoch 70/100\n",
            "1/1 [==============================] - 0s 3ms/step - loss: 2.5411\n",
            "Epoch 71/100\n",
            "1/1 [==============================] - 0s 3ms/step - loss: 2.5406\n",
            "Epoch 72/100\n",
            "1/1 [==============================] - 0s 3ms/step - loss: 2.5401\n",
            "Epoch 73/100\n",
            "1/1 [==============================] - 0s 3ms/step - loss: 2.5397\n",
            "Epoch 74/100\n",
            "1/1 [==============================] - 0s 3ms/step - loss: 2.5392\n",
            "Epoch 75/100\n",
            "1/1 [==============================] - 0s 3ms/step - loss: 2.5387\n",
            "Epoch 76/100\n",
            "1/1 [==============================] - 0s 7ms/step - loss: 2.5382\n",
            "Epoch 77/100\n",
            "1/1 [==============================] - 0s 6ms/step - loss: 2.5378\n",
            "Epoch 78/100\n",
            "1/1 [==============================] - 0s 7ms/step - loss: 2.5373\n",
            "Epoch 79/100\n",
            "1/1 [==============================] - 0s 5ms/step - loss: 2.5368\n",
            "Epoch 80/100\n",
            "1/1 [==============================] - 0s 4ms/step - loss: 2.5363\n",
            "Epoch 81/100\n",
            "1/1 [==============================] - 0s 3ms/step - loss: 2.5359\n",
            "Epoch 82/100\n",
            "1/1 [==============================] - 0s 3ms/step - loss: 2.5354\n",
            "Epoch 83/100\n",
            "1/1 [==============================] - 0s 5ms/step - loss: 2.5349\n",
            "Epoch 84/100\n",
            "1/1 [==============================] - 0s 5ms/step - loss: 2.5345\n",
            "Epoch 85/100\n",
            "1/1 [==============================] - 0s 6ms/step - loss: 2.5340\n",
            "Epoch 86/100\n",
            "1/1 [==============================] - 0s 3ms/step - loss: 2.5335\n",
            "Epoch 87/100\n",
            "1/1 [==============================] - 0s 4ms/step - loss: 2.5330\n",
            "Epoch 88/100\n",
            "1/1 [==============================] - 0s 3ms/step - loss: 2.5326\n",
            "Epoch 89/100\n",
            "1/1 [==============================] - 0s 3ms/step - loss: 2.5321\n",
            "Epoch 90/100\n",
            "1/1 [==============================] - 0s 4ms/step - loss: 2.5316\n",
            "Epoch 91/100\n",
            "1/1 [==============================] - 0s 4ms/step - loss: 2.5311\n",
            "Epoch 92/100\n",
            "1/1 [==============================] - 0s 3ms/step - loss: 2.5307\n",
            "Epoch 93/100\n",
            "1/1 [==============================] - 0s 3ms/step - loss: 2.5302\n",
            "Epoch 94/100\n",
            "1/1 [==============================] - 0s 4ms/step - loss: 2.5297\n",
            "Epoch 95/100\n",
            "1/1 [==============================] - 0s 4ms/step - loss: 2.5293\n",
            "Epoch 96/100\n",
            "1/1 [==============================] - 0s 4ms/step - loss: 2.5288\n",
            "Epoch 97/100\n",
            "1/1 [==============================] - 0s 4ms/step - loss: 2.5283\n",
            "Epoch 98/100\n",
            "1/1 [==============================] - 0s 4ms/step - loss: 2.5279\n",
            "Epoch 99/100\n",
            "1/1 [==============================] - 0s 4ms/step - loss: 2.5274\n",
            "Epoch 100/100\n",
            "1/1 [==============================] - 0s 5ms/step - loss: 2.5269\n",
            "WARNING:tensorflow:5 out of the last 5 calls to <function Model.make_predict_function.<locals>.predict_function at 0x7f4f477268c0> triggered tf.function retracing. Tracing is expensive and the excessive number of tracings could be due to (1) creating @tf.function repeatedly in a loop, (2) passing tensors with different shapes, (3) passing Python objects instead of tensors. For (1), please define your @tf.function outside of the loop. For (2), @tf.function has experimental_relax_shapes=True option that relaxes argument shapes that can avoid unnecessary retracing. For (3), please refer to https://www.tensorflow.org/guide/function#controlling_retracing and https://www.tensorflow.org/api_docs/python/tf/function for  more details.\n",
            "[[170.03006]]\n"
          ],
          "name": "stdout"
        }
      ]
    },
    {
      "cell_type": "markdown",
      "metadata": {
        "id": "HEVoNSjTw05T"
      },
      "source": [
        "# Classification"
      ]
    },
    {
      "cell_type": "markdown",
      "metadata": {
        "id": "D4KMrCI1wfJ3"
      },
      "source": [
        "## Logistic Regression(binomial)"
      ]
    },
    {
      "cell_type": "code",
      "metadata": {
        "colab": {
          "base_uri": "https://localhost:8080/"
        },
        "id": "J6P9CC9YxdcV",
        "outputId": "41fbc829-04e1-4579-8d42-d63b42e2a376"
      },
      "source": [
        "import tensorflow as tf\n",
        "import numpy as np\n",
        "#tf.random.set_seed(777)  # for reproducibility\n",
        " \n",
        "# slice data\n",
        "data = np.loadtxt('data-03-diabetes.csv', delimiter=',', dtype=np.float32)\n",
        "X = data[:, 0:-1]\n",
        "y = data[:, [-1]]\n",
        "\n",
        "W = tf.Variable(tf.random.normal([8, 1]), name='weight')\n",
        "b = tf.Variable(tf.random.normal([1]), name='bias')\n",
        "\n",
        "# Hypothesis\n",
        "def predict(X):\n",
        "  return tf.divide(1., 1. + tf.exp(-(tf.matmul(X, W) + b)))\n",
        "\n",
        "def loss_fn(X, y):\n",
        "  h = predict(X)\n",
        "  return -tf.reduce_mean(y * tf.math.log(h) + (1 - y) * tf.math.log(1 - h))\n",
        "\n",
        "learning_rate=1e-2\n",
        "\n",
        "for step in range(3001):\n",
        "  with tf.GradientTape() as g:\n",
        "    cost = loss_fn(X, y)\n",
        "  \n",
        "  wg, bg = g.gradient(cost, [W, b])\n",
        "  W.assign_sub(learning_rate * wg)\n",
        "  b.assign_sub(learning_rate * bg)\n",
        "    \n",
        "  if step % 100 == 0:\n",
        "    tf.print(step, \"Cost: \", cost)"
      ],
      "execution_count": 12,
      "outputs": [
        {
          "output_type": "stream",
          "text": [
            "0 Cost:  0.896073401\n",
            "100 Cost:  0.870782793\n",
            "200 Cost:  0.84782964\n",
            "300 Cost:  0.826537609\n",
            "400 Cost:  0.806596398\n",
            "500 Cost:  0.787853956\n",
            "600 Cost:  0.770224571\n",
            "700 Cost:  0.753649831\n",
            "800 Cost:  0.738080621\n",
            "900 Cost:  0.723471105\n",
            "1000 Cost:  0.70977509\n",
            "1100 Cost:  0.6969468\n",
            "1200 Cost:  0.684939682\n",
            "1300 Cost:  0.673707604\n",
            "1400 Cost:  0.66320473\n",
            "1500 Cost:  0.653386354\n",
            "1600 Cost:  0.644208968\n",
            "1700 Cost:  0.635630667\n",
            "1800 Cost:  0.62761122\n",
            "1900 Cost:  0.620112538\n",
            "2000 Cost:  0.613098443\n",
            "2100 Cost:  0.606534779\n",
            "2200 Cost:  0.600389481\n",
            "2300 Cost:  0.594632626\n",
            "2400 Cost:  0.589236319\n",
            "2500 Cost:  0.584174395\n",
            "2600 Cost:  0.579422712\n",
            "2700 Cost:  0.574958801\n",
            "2800 Cost:  0.570762\n",
            "2900 Cost:  0.566813\n",
            "3000 Cost:  0.56309396\n"
          ],
          "name": "stdout"
        }
      ]
    },
    {
      "cell_type": "markdown",
      "metadata": {
        "id": "b9jRaxH2w7Nq"
      },
      "source": [
        "## Softmax Regression(multinomial)"
      ]
    }
  ]
}